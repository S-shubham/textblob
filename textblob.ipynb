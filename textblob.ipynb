{
 "cells": [
  {
   "cell_type": "code",
   "execution_count": 13,
   "metadata": {},
   "outputs": [],
   "source": [
    "# In this notebook we are going to cover how to use textblob"
   ]
  },
  {
   "cell_type": "code",
   "execution_count": 14,
   "metadata": {},
   "outputs": [],
   "source": [
    "from textblob import TextBlob"
   ]
  },
  {
   "cell_type": "code",
   "execution_count": 15,
   "metadata": {},
   "outputs": [],
   "source": [
    "text = \"\"\"When Marco Polo first visited Sri Lanka back in the fourteenth century he said it was “undoubtedly the finest island in the world,” and the millions of globetrotters who have followed him agree wholeheartedly.\n",
    "Barely 100 miles north of the equator, this tropic paradise has a fascinating history and enthralling culture. Explore its rich history through the times of the Silk Road and World War II, watch wild elephants stroll by, or lounge on the picturesque beaches. Southern Sri Lanka has something for everyone.\n",
    "Yala National Park is Sri Lanka’s most famous wild life park. It has a diverse collection of animals and some of the best safaris you’ll find anywhere. With peacocks flaunting their stuff, monkeys swinging through the trees, and leopards dashing past, the Yala National Park is an absolute must-see.\n",
    "\"\"\""
   ]
  },
  {
   "cell_type": "code",
   "execution_count": 16,
   "metadata": {},
   "outputs": [],
   "source": [
    "tb = TextBlob(text)"
   ]
  },
  {
   "cell_type": "markdown",
   "metadata": {},
   "source": [
    "### Parts of speech tagging"
   ]
  },
  {
   "cell_type": "code",
   "execution_count": 18,
   "metadata": {},
   "outputs": [],
   "source": [
    "#tb.tags"
   ]
  },
  {
   "cell_type": "markdown",
   "metadata": {},
   "source": [
    "### Extracting noun phrases"
   ]
  },
  {
   "cell_type": "code",
   "execution_count": 19,
   "metadata": {},
   "outputs": [
    {
     "data": {
      "text/plain": [
       "WordList(['marco', 'sri lanka', 'fourteenth century', 'barely', 'tropic paradise', 'enthralling culture', 'explore', 'rich history', 'silk', 'world war', 'ii', 'wild elephants stroll', 'picturesque beaches', 'sri lanka', 'yala', 'national park', 'sri lanka', '’ s', 'famous wild life park', 'diverse collection', '’ ll', 'yala', 'national park', 'absolute must-see'])"
      ]
     },
     "execution_count": 19,
     "metadata": {},
     "output_type": "execute_result"
    }
   ],
   "source": [
    "tb.noun_phrases"
   ]
  },
  {
   "cell_type": "code",
   "execution_count": 20,
   "metadata": {},
   "outputs": [
    {
     "data": {
      "text/plain": [
       "Sentiment(polarity=0.2711538461538462, subjectivity=0.44487179487179485)"
      ]
     },
     "execution_count": 20,
     "metadata": {},
     "output_type": "execute_result"
    }
   ],
   "source": [
    "# Finding the sentiment\n",
    "tb.sentiment"
   ]
  },
  {
   "cell_type": "markdown",
   "metadata": {},
   "source": [
    "### Tokenization"
   ]
  },
  {
   "cell_type": "code",
   "execution_count": 23,
   "metadata": {},
   "outputs": [
    {
     "name": "stdout",
     "output_type": "stream",
     "text": [
      "['When', 'Marco', 'Polo', 'first', 'visited', 'Sri', 'Lanka', 'back', 'in', 'the', 'fourteenth', 'century', 'he', 'said', 'it', 'was', '“', 'undoubtedly', 'the', 'finest', 'island', 'in', 'the', 'world', '”', 'and', 'the', 'millions', 'of', 'globetrotters', 'who', 'have', 'followed', 'him', 'agree', 'wholeheartedly', 'Barely', '100', 'miles', 'north', 'of', 'the', 'equator', 'this', 'tropic', 'paradise', 'has', 'a', 'fascinating', 'history', 'and', 'enthralling', 'culture', 'Explore', 'its', 'rich', 'history', 'through', 'the', 'times', 'of', 'the', 'Silk', 'Road', 'and', 'World', 'War', 'II', 'watch', 'wild', 'elephants', 'stroll', 'by', 'or', 'lounge', 'on', 'the', 'picturesque', 'beaches', 'Southern', 'Sri', 'Lanka', 'has', 'something', 'for', 'everyone', 'Yala', 'National', 'Park', 'is', 'Sri', 'Lanka', '’', 's', 'most', 'famous', 'wild', 'life', 'park', 'It', 'has', 'a', 'diverse', 'collection', 'of', 'animals', 'and', 'some', 'of', 'the', 'best', 'safaris', 'you', '’', 'll', 'find', 'anywhere', 'With', 'peacocks', 'flaunting', 'their', 'stuff', 'monkeys', 'swinging', 'through', 'the', 'trees', 'and', 'leopards', 'dashing', 'past', 'the', 'Yala', 'National', 'Park', 'is', 'an', 'absolute', 'must-see']\n",
      "[Sentence(\"When Marco Polo first visited Sri Lanka back in the fourteenth century he said it was “undoubtedly the finest island in the world,” and the millions of globetrotters who have followed him agree wholeheartedly.\"), Sentence(\"Barely 100 miles north of the equator, this tropic paradise has a fascinating history and enthralling culture.\"), Sentence(\"Explore its rich history through the times of the Silk Road and World War II, watch wild elephants stroll by, or lounge on the picturesque beaches.\"), Sentence(\"Southern Sri Lanka has something for everyone.\"), Sentence(\"Yala National Park is Sri Lanka’s most famous wild life park.\"), Sentence(\"It has a diverse collection of animals and some of the best safaris you’ll find anywhere.\"), Sentence(\"With peacocks flaunting their stuff, monkeys swinging through the trees, and leopards dashing past, the Yala National Park is an absolute must-see.\")]\n"
     ]
    }
   ],
   "source": [
    "# The textblobs can be broken into words or sentences\n",
    "\n",
    "#Break into words\n",
    "print(tb.words)\n",
    "\n",
    "# break into sentences\n",
    "print(tb.sentences)"
   ]
  },
  {
   "cell_type": "code",
   "execution_count": 24,
   "metadata": {},
   "outputs": [],
   "source": [
    "# Sentence object has the same property and method as the textblobs"
   ]
  },
  {
   "cell_type": "code",
   "execution_count": 25,
   "metadata": {},
   "outputs": [
    {
     "name": "stdout",
     "output_type": "stream",
     "text": [
      "Sentiment(polarity=0.125, subjectivity=0.16666666666666666)\n",
      "Sentiment(polarity=0.375, subjectivity=0.47500000000000003)\n",
      "Sentiment(polarity=0.2375, subjectivity=0.575)\n",
      "Sentiment(polarity=0.0, subjectivity=0.0)\n",
      "Sentiment(polarity=0.3666666666666667, subjectivity=0.6333333333333333)\n",
      "Sentiment(polarity=1.0, subjectivity=0.3)\n",
      "Sentiment(polarity=-0.024999999999999994, subjectivity=0.575)\n"
     ]
    }
   ],
   "source": [
    "for sent in tb.sentences:\n",
    "    print(sent.sentiment)"
   ]
  },
  {
   "cell_type": "code",
   "execution_count": null,
   "metadata": {},
   "outputs": [],
   "source": []
  }
 ],
 "metadata": {
  "kernelspec": {
   "display_name": "Python 3",
   "language": "python",
   "name": "python3"
  },
  "language_info": {
   "codemirror_mode": {
    "name": "ipython",
    "version": 3
   },
   "file_extension": ".py",
   "mimetype": "text/x-python",
   "name": "python",
   "nbconvert_exporter": "python",
   "pygments_lexer": "ipython3",
   "version": "3.6.5"
  }
 },
 "nbformat": 4,
 "nbformat_minor": 2
}
